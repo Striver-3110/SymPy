{
 "cells": [
  {
   "cell_type": "code",
   "execution_count": 2,
   "id": "18496095",
   "metadata": {},
   "outputs": [],
   "source": [
    "import sympy as sp\n",
    "import math"
   ]
  },
  {
   "cell_type": "code",
   "execution_count": 3,
   "id": "3286473c",
   "metadata": {},
   "outputs": [
    {
     "data": {
      "text/latex": [
       "$\\displaystyle \\sqrt{2}$"
      ],
      "text/plain": [
       "sqrt(2)"
      ]
     },
     "execution_count": 3,
     "metadata": {},
     "output_type": "execute_result"
    }
   ],
   "source": [
    "sp.sqrt(2)**2 # Symbolic "
   ]
  },
  {
   "cell_type": "code",
   "execution_count": 4,
   "id": "bb01497e",
   "metadata": {},
   "outputs": [
    {
     "data": {
      "text/plain": [
       "1.4142135623730951"
      ]
     },
     "execution_count": 4,
     "metadata": {},
     "output_type": "execute_result"
    }
   ],
   "source": [
    "math.sqrt(2)**2 # Numeric"
   ]
  },
  {
   "cell_type": "code",
   "execution_count": 6,
   "id": "c7a264cf",
   "metadata": {},
   "outputs": [
    {
     "data": {
      "text/latex": [
       "$\\displaystyle x$"
      ],
      "text/plain": [
       "x"
      ]
     },
     "execution_count": 6,
     "metadata": {},
     "output_type": "execute_result"
    }
   ],
   "source": [
    "x= sp.Symbol(\"x\")\n",
    "x"
   ]
  },
  {
   "cell_type": "code",
   "execution_count": 10,
   "id": "cf7831dd",
   "metadata": {},
   "outputs": [
    {
     "data": {
      "text/latex": [
       "$\\displaystyle w$"
      ],
      "text/plain": [
       "w"
      ]
     },
     "execution_count": 10,
     "metadata": {},
     "output_type": "execute_result"
    }
   ],
   "source": [
    "y  = sp.Symbol(\"w\")\n",
    "y"
   ]
  },
  {
   "cell_type": "code",
   "execution_count": 11,
   "id": "bb9fd5cc",
   "metadata": {},
   "outputs": [
    {
     "data": {
      "text/latex": [
       "$\\displaystyle 5 x + 5$"
      ],
      "text/plain": [
       "5*x + 5"
      ]
     },
     "execution_count": 11,
     "metadata": {},
     "output_type": "execute_result"
    }
   ],
   "source": [
    "2*x + 3*x + 5"
   ]
  },
  {
   "cell_type": "code",
   "execution_count": 12,
   "id": "a064e850",
   "metadata": {},
   "outputs": [
    {
     "data": {
      "text/latex": [
       "$\\displaystyle \\sin^{2}{\\left(x \\right)} + \\cos^{2}{\\left(x \\right)}$"
      ],
      "text/plain": [
       "sin(x)**2 + cos(x)**2"
      ]
     },
     "execution_count": 12,
     "metadata": {},
     "output_type": "execute_result"
    }
   ],
   "source": [
    "sp.sin(x)**2 + sp.cos(x)**2"
   ]
  },
  {
   "cell_type": "code",
   "execution_count": 8,
   "id": "0c3bb2cb",
   "metadata": {},
   "outputs": [
    {
     "data": {
      "text/latex": [
       "$\\displaystyle x^{2} + 4 x + 4$"
      ],
      "text/plain": [
       "x**2 + 4*x + 4"
      ]
     },
     "execution_count": 8,
     "metadata": {},
     "output_type": "execute_result"
    }
   ],
   "source": [
    "expr = x**2 + 4*x + 4\n",
    "expr\n",
    "# expr.expand()"
   ]
  },
  {
   "cell_type": "code",
   "execution_count": 19,
   "id": "721e5dee",
   "metadata": {},
   "outputs": [
    {
     "data": {
      "text/latex": [
       "$\\displaystyle \\frac{x}{5}$"
      ],
      "text/plain": [
       "x/5"
      ]
     },
     "execution_count": 19,
     "metadata": {},
     "output_type": "execute_result"
    }
   ],
   "source": [
    "2*x/10"
   ]
  },
  {
   "cell_type": "code",
   "execution_count": 20,
   "id": "738434b0",
   "metadata": {},
   "outputs": [
    {
     "data": {
      "text/latex": [
       "$\\displaystyle 1$"
      ],
      "text/plain": [
       "1"
      ]
     },
     "execution_count": 20,
     "metadata": {},
     "output_type": "execute_result"
    }
   ],
   "source": [
    "x/x"
   ]
  },
  {
   "cell_type": "code",
   "execution_count": 22,
   "id": "6bfdd5ca",
   "metadata": {},
   "outputs": [
    {
     "data": {
      "text/latex": [
       "$\\displaystyle x \\left(x + 2\\right)$"
      ],
      "text/plain": [
       "x*(x + 2)"
      ]
     },
     "execution_count": 22,
     "metadata": {},
     "output_type": "execute_result"
    }
   ],
   "source": [
    "expr = x*(x+2)\n",
    "expr"
   ]
  },
  {
   "cell_type": "code",
   "execution_count": 23,
   "id": "7499ec54",
   "metadata": {},
   "outputs": [
    {
     "data": {
      "text/latex": [
       "$\\displaystyle x^{2} + 2 x$"
      ],
      "text/plain": [
       "x**2 + 2*x"
      ]
     },
     "execution_count": 23,
     "metadata": {},
     "output_type": "execute_result"
    }
   ],
   "source": [
    "expr.expand()"
   ]
  },
  {
   "cell_type": "code",
   "execution_count": 24,
   "id": "e2066559",
   "metadata": {},
   "outputs": [
    {
     "data": {
      "text/latex": [
       "$\\displaystyle x \\left(x + 2\\right)$"
      ],
      "text/plain": [
       "x*(x + 2)"
      ]
     },
     "execution_count": 24,
     "metadata": {},
     "output_type": "execute_result"
    }
   ],
   "source": [
    "expr"
   ]
  },
  {
   "cell_type": "code",
   "execution_count": 27,
   "id": "a4c69151",
   "metadata": {},
   "outputs": [
    {
     "data": {
      "text/plain": [
       "tuple"
      ]
     },
     "execution_count": 27,
     "metadata": {},
     "output_type": "execute_result"
    }
   ],
   "source": [
    "type(sp.symbols(\"q p\"))"
   ]
  },
  {
   "cell_type": "code",
   "execution_count": 28,
   "id": "4dc5e334",
   "metadata": {},
   "outputs": [],
   "source": [
    "q,p = sp.symbols(\"q,p\")"
   ]
  },
  {
   "cell_type": "code",
   "execution_count": 30,
   "id": "afa4634d",
   "metadata": {},
   "outputs": [
    {
     "data": {
      "text/latex": [
       "$\\displaystyle q \\left(p + 2\\right) \\left(q + 3\\right)$"
      ],
      "text/plain": [
       "q*(p + 2)*(q + 3)"
      ]
     },
     "execution_count": 30,
     "metadata": {},
     "output_type": "execute_result"
    }
   ],
   "source": [
    "exp = q*(p+2)*(q+3)\n",
    "exp"
   ]
  },
  {
   "cell_type": "code",
   "execution_count": 37,
   "id": "fc5cacc3",
   "metadata": {},
   "outputs": [
    {
     "data": {
      "text/latex": [
       "$\\displaystyle p q^{2} + 3 p q + 2 q^{2} + 6 q$"
      ],
      "text/plain": [
       "p*q**2 + 3*p*q + 2*q**2 + 6*q"
      ]
     },
     "execution_count": 37,
     "metadata": {},
     "output_type": "execute_result"
    }
   ],
   "source": [
    "exp = exp.expand()# alternative is sp.expand(exp)\n",
    "exp"
   ]
  },
  {
   "cell_type": "code",
   "execution_count": 34,
   "id": "7998c62b",
   "metadata": {},
   "outputs": [
    {
     "data": {
      "text/latex": [
       "$\\displaystyle q \\left(p + 2\\right) \\left(q + 3\\right)$"
      ],
      "text/plain": [
       "q*(p + 2)*(q + 3)"
      ]
     },
     "execution_count": 34,
     "metadata": {},
     "output_type": "execute_result"
    }
   ],
   "source": [
    "sp.factor(exp)# alternative is exp.factor()"
   ]
  },
  {
   "cell_type": "markdown",
   "id": "70939fb0",
   "metadata": {},
   "source": [
    "# another way to create symbols in sympy"
   ]
  },
  {
   "cell_type": "code",
   "execution_count": 41,
   "id": "5f29ab16",
   "metadata": {},
   "outputs": [
    {
     "data": {
      "text/plain": [
       "(x0, x1, x2)"
      ]
     },
     "execution_count": 41,
     "metadata": {},
     "output_type": "execute_result"
    }
   ],
   "source": [
    "x = sp.symbols(\"x0:3\")\n",
    "x"
   ]
  },
  {
   "cell_type": "code",
   "execution_count": 43,
   "id": "01d74473",
   "metadata": {},
   "outputs": [
    {
     "data": {
      "text/latex": [
       "$\\displaystyle x_{0}^{2} x_{1} x_{2} + x_{0} x_{1} x_{2}$"
      ],
      "text/plain": [
       "x0**2*x1*x2 + x0*x1*x2"
      ]
     },
     "execution_count": 43,
     "metadata": {},
     "output_type": "execute_result"
    }
   ],
   "source": [
    "\n",
    "expr = x[0] ** 2 * x[1] * x[2] + x[0] * x[1] * x[2]\n",
    "expr"
   ]
  },
  {
   "cell_type": "code",
   "execution_count": 45,
   "id": "dca1929c",
   "metadata": {},
   "outputs": [
    {
     "data": {
      "text/latex": [
       "$\\displaystyle x_{0} x_{1} x_{2} \\left(x_{0} + 1\\right)$"
      ],
      "text/plain": [
       "x0*x1*x2*(x0 + 1)"
      ]
     },
     "execution_count": 45,
     "metadata": {},
     "output_type": "execute_result"
    }
   ],
   "source": [
    "expr.factor()"
   ]
  },
  {
   "cell_type": "markdown",
   "id": "81ceac05",
   "metadata": {},
   "source": [
    "# Data types and common functions"
   ]
  },
  {
   "cell_type": "code",
   "execution_count": 46,
   "id": "2dff1b00",
   "metadata": {},
   "outputs": [
    {
     "data": {
      "text/latex": [
       "$\\displaystyle 10$"
      ],
      "text/plain": [
       "10"
      ]
     },
     "execution_count": 46,
     "metadata": {},
     "output_type": "execute_result"
    }
   ],
   "source": [
    "sp.Integer(10)"
   ]
  },
  {
   "cell_type": "code",
   "execution_count": 47,
   "id": "a78825ff",
   "metadata": {},
   "outputs": [
    {
     "data": {
      "text/latex": [
       "$\\displaystyle \\frac{1}{4}$"
      ],
      "text/plain": [
       "1/4"
      ]
     },
     "execution_count": 47,
     "metadata": {},
     "output_type": "execute_result"
    }
   ],
   "source": [
    "sp.Rational(1)/4 # it is same as sp.Rational(1)/sp.Rational(4)"
   ]
  },
  {
   "cell_type": "code",
   "execution_count": 51,
   "id": "e779c651",
   "metadata": {},
   "outputs": [
    {
     "data": {
      "text/latex": [
       "$\\displaystyle x^{0.333333333333333}$"
      ],
      "text/plain": [
       "x**0.333333333333333"
      ]
     },
     "execution_count": 51,
     "metadata": {},
     "output_type": "execute_result"
    }
   ],
   "source": [
    "x = sp.Symbol(\"x\")\n",
    "\n",
    "expr = x**(1/3)\n",
    "expr"
   ]
  },
  {
   "cell_type": "code",
   "execution_count": 52,
   "id": "94ad56bc",
   "metadata": {},
   "outputs": [
    {
     "data": {
      "text/latex": [
       "$\\displaystyle x^{0.0666666666666667}$"
      ],
      "text/plain": [
       "x**0.0666666666666667"
      ]
     },
     "execution_count": 52,
     "metadata": {},
     "output_type": "execute_result"
    }
   ],
   "source": [
    "expr ** (1/5)"
   ]
  },
  {
   "cell_type": "code",
   "execution_count": 56,
   "id": "68d810bf",
   "metadata": {},
   "outputs": [
    {
     "data": {
      "text/latex": [
       "$\\displaystyle \\sqrt[3]{x}$"
      ],
      "text/plain": [
       "x**(1/3)"
      ]
     },
     "execution_count": 56,
     "metadata": {},
     "output_type": "execute_result"
    }
   ],
   "source": [
    "expr = x **(sp.Integer(1)/sp.Integer(3))\n",
    "expr"
   ]
  },
  {
   "cell_type": "code",
   "execution_count": 57,
   "id": "316a3dd2",
   "metadata": {},
   "outputs": [
    {
     "data": {
      "text/latex": [
       "$\\displaystyle \\sqrt[15]{x}$"
      ],
      "text/plain": [
       "x**(1/15)"
      ]
     },
     "execution_count": 57,
     "metadata": {},
     "output_type": "execute_result"
    }
   ],
   "source": [
    "expr ** (sp.Integer(1)/5)"
   ]
  },
  {
   "cell_type": "code",
   "execution_count": 59,
   "id": "2c8d5550",
   "metadata": {},
   "outputs": [
    {
     "data": {
      "text/latex": [
       "$\\displaystyle \\frac{1}{3}$"
      ],
      "text/plain": [
       "1/3"
      ]
     },
     "execution_count": 59,
     "metadata": {},
     "output_type": "execute_result"
    }
   ],
   "source": [
    "r = sp.Rational(1,3)\n",
    "r"
   ]
  },
  {
   "cell_type": "code",
   "execution_count": 61,
   "id": "3f837ed5",
   "metadata": {},
   "outputs": [
    {
     "data": {
      "text/latex": [
       "$\\displaystyle \\sqrt[15]{x}$"
      ],
      "text/plain": [
       "x**(1/15)"
      ]
     },
     "execution_count": 61,
     "metadata": {},
     "output_type": "execute_result"
    }
   ],
   "source": [
    "expr = (x ** sp.Rational(1,3))** sp.Rational(1,5)\n",
    "expr"
   ]
  },
  {
   "cell_type": "code",
   "execution_count": 62,
   "id": "a4896c3d",
   "metadata": {},
   "outputs": [
    {
     "data": {
      "text/latex": [
       "$\\displaystyle \\pi$"
      ],
      "text/plain": [
       "pi"
      ]
     },
     "execution_count": 62,
     "metadata": {},
     "output_type": "execute_result"
    }
   ],
   "source": [
    "sp.pi"
   ]
  },
  {
   "cell_type": "code",
   "execution_count": 63,
   "id": "8ff696ca",
   "metadata": {},
   "outputs": [
    {
     "data": {
      "text/latex": [
       "$\\displaystyle 3 + \\pi$"
      ],
      "text/plain": [
       "3 + pi"
      ]
     },
     "execution_count": 63,
     "metadata": {},
     "output_type": "execute_result"
    }
   ],
   "source": [
    "sp.pi + 3"
   ]
  },
  {
   "cell_type": "code",
   "execution_count": 64,
   "id": "3302bc2b",
   "metadata": {},
   "outputs": [
    {
     "data": {
      "text/latex": [
       "$\\displaystyle 4 \\pi$"
      ],
      "text/plain": [
       "4*pi"
      ]
     },
     "execution_count": 64,
     "metadata": {},
     "output_type": "execute_result"
    }
   ],
   "source": [
    "sp.pi * 4"
   ]
  },
  {
   "cell_type": "code",
   "execution_count": 65,
   "id": "a760b39e",
   "metadata": {},
   "outputs": [
    {
     "data": {
      "text/latex": [
       "$\\displaystyle \\frac{\\pi}{6}$"
      ],
      "text/plain": [
       "pi/6"
      ]
     },
     "execution_count": 65,
     "metadata": {},
     "output_type": "execute_result"
    }
   ],
   "source": [
    "sp.pi /6"
   ]
  },
  {
   "cell_type": "code",
   "execution_count": 66,
   "id": "ade2b8b2",
   "metadata": {},
   "outputs": [
    {
     "data": {
      "text/latex": [
       "$\\displaystyle e + \\pi$"
      ],
      "text/plain": [
       "E + pi"
      ]
     },
     "execution_count": 66,
     "metadata": {},
     "output_type": "execute_result"
    }
   ],
   "source": [
    "sp.E +sp.pi"
   ]
  },
  {
   "cell_type": "code",
   "execution_count": 67,
   "id": "dd69eb9b",
   "metadata": {},
   "outputs": [
    {
     "data": {
      "text/latex": [
       "$\\displaystyle \\infty$"
      ],
      "text/plain": [
       "oo"
      ]
     },
     "execution_count": 67,
     "metadata": {},
     "output_type": "execute_result"
    }
   ],
   "source": [
    "sp.oo"
   ]
  },
  {
   "cell_type": "code",
   "execution_count": 70,
   "id": "c854843b",
   "metadata": {},
   "outputs": [
    {
     "data": {
      "text/latex": [
       "$\\displaystyle -\\infty$"
      ],
      "text/plain": [
       "-oo"
      ]
     },
     "execution_count": 70,
     "metadata": {},
     "output_type": "execute_result"
    }
   ],
   "source": [
    "(sp.oo +sp.pi * sp.E)  / sp.I**2"
   ]
  },
  {
   "cell_type": "code",
   "execution_count": 71,
   "id": "d52f8279",
   "metadata": {},
   "outputs": [
    {
     "data": {
      "text/latex": [
       "$\\displaystyle i$"
      ],
      "text/plain": [
       "I"
      ]
     },
     "execution_count": 71,
     "metadata": {},
     "output_type": "execute_result"
    }
   ],
   "source": [
    "sp.I"
   ]
  },
  {
   "cell_type": "code",
   "execution_count": 72,
   "id": "54215f2a",
   "metadata": {},
   "outputs": [
    {
     "data": {
      "text/latex": [
       "$\\displaystyle -1$"
      ],
      "text/plain": [
       "-1"
      ]
     },
     "execution_count": 72,
     "metadata": {},
     "output_type": "execute_result"
    }
   ],
   "source": [
    "sp.I**2"
   ]
  },
  {
   "cell_type": "markdown",
   "id": "f5f6efb2",
   "metadata": {},
   "source": [
    "# Common function"
   ]
  },
  {
   "cell_type": "code",
   "execution_count": 76,
   "id": "606cceec",
   "metadata": {},
   "outputs": [
    {
     "data": {
      "text/latex": [
       "$\\displaystyle e^{x}$"
      ],
      "text/plain": [
       "exp(x)"
      ]
     },
     "execution_count": 76,
     "metadata": {},
     "output_type": "execute_result"
    }
   ],
   "source": [
    "sp.exp(x)"
   ]
  },
  {
   "cell_type": "code",
   "execution_count": 77,
   "id": "07625554",
   "metadata": {},
   "outputs": [
    {
     "data": {
      "text/latex": [
       "$\\displaystyle - e^{\\pi + 4}$"
      ],
      "text/plain": [
       "-exp(pi + 4)"
      ]
     },
     "execution_count": 77,
     "metadata": {},
     "output_type": "execute_result"
    }
   ],
   "source": [
    "sp.exp(sp.pi+sp.I*sp.pi+4)"
   ]
  },
  {
   "cell_type": "code",
   "execution_count": 78,
   "id": "3f3f0fee",
   "metadata": {},
   "outputs": [
    {
     "data": {
      "text/latex": [
       "$\\displaystyle \\log{\\left(x \\right)}$"
      ],
      "text/plain": [
       "log(x)"
      ]
     },
     "execution_count": 78,
     "metadata": {},
     "output_type": "execute_result"
    }
   ],
   "source": [
    "sp.log(x)"
   ]
  },
  {
   "cell_type": "code",
   "execution_count": 79,
   "id": "9eb56810",
   "metadata": {},
   "outputs": [
    {
     "data": {
      "text/latex": [
       "$\\displaystyle x$"
      ],
      "text/plain": [
       "x"
      ]
     },
     "execution_count": 79,
     "metadata": {},
     "output_type": "execute_result"
    }
   ],
   "source": [
    "sp.exp(sp.log(x))"
   ]
  },
  {
   "cell_type": "code",
   "execution_count": 80,
   "id": "5a4a0749",
   "metadata": {},
   "outputs": [
    {
     "data": {
      "text/latex": [
       "$\\displaystyle - \\sin{\\left(\\pi x \\right)} + \\cos{\\left(\\pi x \\right)}$"
      ],
      "text/plain": [
       "-sin(pi*x) + cos(pi*x)"
      ]
     },
     "execution_count": 80,
     "metadata": {},
     "output_type": "execute_result"
    }
   ],
   "source": [
    "sp.sin(x*sp.pi+3*sp.pi) + sp.cos(x*sp.pi)"
   ]
  },
  {
   "cell_type": "code",
   "execution_count": 82,
   "id": "11c615c2",
   "metadata": {},
   "outputs": [
    {
     "data": {
      "text/latex": [
       "$\\displaystyle x^{2} + e^{\\cos{\\left(x \\right)}} + \\sin{\\left(\\pi x \\right)}$"
      ],
      "text/plain": [
       "x**2 + exp(cos(x)) + sin(pi*x)"
      ]
     },
     "execution_count": 82,
     "metadata": {},
     "output_type": "execute_result"
    }
   ],
   "source": [
    "expt = x**2 + sp.exp(sp.cos(x)) +sp.sin(sp.pi*x)\n",
    "expt"
   ]
  },
  {
   "cell_type": "markdown",
   "id": "06ba5567",
   "metadata": {},
   "source": [
    "# Solving Equation"
   ]
  },
  {
   "cell_type": "code",
   "execution_count": null,
   "id": "a806a4fb",
   "metadata": {},
   "outputs": [],
   "source": [
    "import sympy as sp\n",
    "x,y,z = sp.symbols(\"x, y, z\")"
   ]
  },
  {
   "cell_type": "markdown",
   "id": "4865a8e8",
   "metadata": {},
   "source": [
    "#define equation"
   ]
  },
  {
   "cell_type": "code",
   "execution_count": 90,
   "id": "b65aaa3e",
   "metadata": {},
   "outputs": [
    {
     "data": {
      "text/plain": [
       "sympy.core.relational.Equality"
      ]
     },
     "execution_count": 90,
     "metadata": {},
     "output_type": "execute_result"
    }
   ],
   "source": [
    "equation = sp.Eq(sp.pi*x**2 , 10)\n",
    "type(equation)"
   ]
  },
  {
   "cell_type": "code",
   "execution_count": 91,
   "id": "04287284",
   "metadata": {},
   "outputs": [
    {
     "data": {
      "text/latex": [
       "$\\displaystyle \\left\\{- \\frac{\\sqrt{10}}{\\sqrt{\\pi}}, \\frac{\\sqrt{10}}{\\sqrt{\\pi}}\\right\\}$"
      ],
      "text/plain": [
       "{-sqrt(10)/sqrt(pi), sqrt(10)/sqrt(pi)}"
      ]
     },
     "execution_count": 91,
     "metadata": {},
     "output_type": "execute_result"
    }
   ],
   "source": [
    "sp.solveset(equation)"
   ]
  },
  {
   "cell_type": "code",
   "execution_count": 92,
   "id": "e850c32b",
   "metadata": {},
   "outputs": [
    {
     "data": {
      "text/plain": [
       "sympy.sets.sets.FiniteSet"
      ]
     },
     "execution_count": 92,
     "metadata": {},
     "output_type": "execute_result"
    }
   ],
   "source": [
    "type(sp.solveset(equation))"
   ]
  },
  {
   "cell_type": "code",
   "execution_count": 94,
   "id": "f0829ea3",
   "metadata": {},
   "outputs": [
    {
     "data": {
      "text/latex": [
       "$\\displaystyle -2$"
      ],
      "text/plain": [
       "-2"
      ]
     },
     "execution_count": 94,
     "metadata": {},
     "output_type": "execute_result"
    }
   ],
   "source": [
    "# how to access solution one by one\n",
    "\n",
    "list(sp.solveset(sp.Eq(x**2+4*x+4,0)))[0]"
   ]
  },
  {
   "cell_type": "code",
   "execution_count": 98,
   "id": "d284be56",
   "metadata": {},
   "outputs": [
    {
     "data": {
      "text/latex": [
       "$\\displaystyle - \\frac{\\sqrt{10}}{\\sqrt{\\pi}}$"
      ],
      "text/plain": [
       "-sqrt(10)/sqrt(pi)"
      ]
     },
     "execution_count": 98,
     "metadata": {},
     "output_type": "execute_result"
    }
   ],
   "source": [
    "list(sp.solveset(equation))[1]"
   ]
  },
  {
   "cell_type": "code",
   "execution_count": 99,
   "id": "cf345e27",
   "metadata": {},
   "outputs": [
    {
     "data": {
      "text/latex": [
       "$\\displaystyle \\frac{\\sqrt{10}}{\\sqrt{\\pi}}$"
      ],
      "text/plain": [
       "sqrt(10)/sqrt(pi)"
      ]
     },
     "execution_count": 99,
     "metadata": {},
     "output_type": "execute_result"
    }
   ],
   "source": [
    "list(sp.solveset(equation))[0]"
   ]
  },
  {
   "cell_type": "code",
   "execution_count": 100,
   "id": "7bdf74ac",
   "metadata": {},
   "outputs": [
    {
     "data": {
      "text/latex": [
       "$\\displaystyle \\left\\{2 n \\pi + \\frac{3 \\pi}{4}\\; \\middle|\\; n \\in \\mathbb{Z}\\right\\} \\cup \\left\\{2 n \\pi + \\frac{7 \\pi}{4}\\; \\middle|\\; n \\in \\mathbb{Z}\\right\\}$"
      ],
      "text/plain": [
       "Union(ImageSet(Lambda(_n, 2*_n*pi + 3*pi/4), Integers), ImageSet(Lambda(_n, 2*_n*pi + 7*pi/4), Integers))"
      ]
     },
     "execution_count": 100,
     "metadata": {},
     "output_type": "execute_result"
    }
   ],
   "source": [
    "sp.solveset(sp.Eq(sp.sin(x)+sp.cos(x),0))"
   ]
  },
  {
   "cell_type": "code",
   "execution_count": 101,
   "id": "4cdea640",
   "metadata": {},
   "outputs": [
    {
     "data": {
      "text/plain": [
       "sympy.sets.sets.Union"
      ]
     },
     "execution_count": 101,
     "metadata": {},
     "output_type": "execute_result"
    }
   ],
   "source": [
    "type(sp.solveset(sp.Eq(sp.sin(x)+sp.cos(x),0)))"
   ]
  },
  {
   "cell_type": "code",
   "execution_count": 103,
   "id": "ee193811",
   "metadata": {},
   "outputs": [
    {
     "data": {
      "text/latex": [
       "$\\displaystyle x + \\cos{\\left(x \\right)} = 0$"
      ],
      "text/plain": [
       "Eq(x + cos(x), 0)"
      ]
     },
     "execution_count": 103,
     "metadata": {},
     "output_type": "execute_result"
    }
   ],
   "source": [
    "eq = sp.Eq(sp.cos(x)+x,0)\n",
    "eq"
   ]
  },
  {
   "cell_type": "code",
   "execution_count": 104,
   "id": "1a7b20ab",
   "metadata": {},
   "outputs": [
    {
     "data": {
      "text/latex": [
       "$\\displaystyle \\left\\{x\\; \\middle|\\; x \\in \\mathbb{C} \\wedge x + \\cos{\\left(x \\right)} = 0 \\right\\}$"
      ],
      "text/plain": [
       "ConditionSet(x, Eq(x + cos(x), 0), Complexes)"
      ]
     },
     "execution_count": 104,
     "metadata": {},
     "output_type": "execute_result"
    }
   ],
   "source": [
    "sp.solveset(eq)"
   ]
  },
  {
   "cell_type": "code",
   "execution_count": 105,
   "id": "a668c3c2",
   "metadata": {},
   "outputs": [
    {
     "data": {
      "text/plain": [
       "sympy.sets.conditionset.ConditionSet"
      ]
     },
     "execution_count": 105,
     "metadata": {},
     "output_type": "execute_result"
    }
   ],
   "source": [
    "type(sp.solveset(eq))"
   ]
  },
  {
   "cell_type": "markdown",
   "id": "a97e34c9",
   "metadata": {},
   "source": [
    "# Solving System of Linear equations"
   ]
  },
  {
   "cell_type": "code",
   "execution_count": 112,
   "id": "2e9c90c9",
   "metadata": {},
   "outputs": [
    {
     "data": {
      "text/latex": [
       "$\\displaystyle \\left\\{\\left( \\frac{150}{23}, \\  \\frac{95}{23}, \\  \\frac{85}{23}\\right)\\right\\}$"
      ],
      "text/plain": [
       "{(150/23, 95/23, 85/23)}"
      ]
     },
     "execution_count": 112,
     "metadata": {},
     "output_type": "execute_result"
    }
   ],
   "source": [
    "line1 = sp.Eq(x+2*y,4*z)\n",
    "line2 = sp.Eq(4*x-3*y,10+z)\n",
    "line3 = sp.Eq(5*x-7*y,z)\n",
    "\n",
    "sp.linsolve([line1,line2,line3],x,y,z)"
   ]
  },
  {
   "cell_type": "markdown",
   "id": "ff7ff1ee",
   "metadata": {},
   "source": [
    "# How to avoid certain silmplifications"
   ]
  },
  {
   "cell_type": "code",
   "execution_count": 113,
   "id": "b85fc693",
   "metadata": {},
   "outputs": [
    {
     "data": {
      "text/latex": [
       "$\\displaystyle \\left(\\sin{\\left(y \\right)} + \\cos{\\left(x \\right)}\\right)^{2} + e^{x + y} - \\cos^{2}{\\left(x \\right)}$"
      ],
      "text/plain": [
       "(sin(y) + cos(x))**2 + exp(x + y) - cos(x)**2"
      ]
     },
     "execution_count": 113,
     "metadata": {},
     "output_type": "execute_result"
    }
   ],
   "source": [
    "expression = sp.exp(x+y) + (sp.cos(x) + sp.sin(y))**2 - sp.cos(x) ** 2\n",
    "expression"
   ]
  },
  {
   "cell_type": "code",
   "execution_count": 121,
   "id": "e3ce8acb",
   "metadata": {},
   "outputs": [
    {
     "data": {
      "text/latex": [
       "$\\displaystyle e^{x} e^{y} + \\sin^{2}{\\left(y \\right)} + 2 \\sin{\\left(y \\right)} \\cos{\\left(x \\right)}$"
      ],
      "text/plain": [
       "exp(x)*exp(y) + sin(y)**2 + 2*sin(y)*cos(x)"
      ]
     },
     "execution_count": 121,
     "metadata": {},
     "output_type": "execute_result"
    }
   ],
   "source": [
    "expression.expand()"
   ]
  },
  {
   "cell_type": "code",
   "execution_count": 117,
   "id": "7f578201",
   "metadata": {},
   "outputs": [
    {
     "data": {
      "text/latex": [
       "$\\displaystyle e^{x + y} + \\sin^{2}{\\left(y \\right)} + 2 \\sin{\\left(y \\right)} \\cos{\\left(x \\right)}$"
      ],
      "text/plain": [
       "exp(x + y) + sin(y)**2 + 2*sin(y)*cos(x)"
      ]
     },
     "execution_count": 117,
     "metadata": {},
     "output_type": "execute_result"
    }
   ],
   "source": [
    "sp.expand(expression,power_exp = False) "
   ]
  },
  {
   "cell_type": "code",
   "execution_count": 122,
   "id": "aebeb11a",
   "metadata": {},
   "outputs": [
    {
     "data": {
      "text/latex": [
       "$\\displaystyle e^{x + y} + \\sin^{2}{\\left(y \\right)} + 2 \\sin{\\left(y \\right)} \\cos{\\left(x \\right)}$"
      ],
      "text/plain": [
       "exp(x + y) + sin(y)**2 + 2*sin(y)*cos(x)"
      ]
     },
     "execution_count": 122,
     "metadata": {},
     "output_type": "execute_result"
    }
   ],
   "source": [
    "expression.expand(power_exp = False)"
   ]
  },
  {
   "cell_type": "markdown",
   "id": "ca50b1b1",
   "metadata": {},
   "source": [
    "# Cancel and Apart"
   ]
  },
  {
   "cell_type": "markdown",
   "id": "89ea36af",
   "metadata": {},
   "source": [
    "Both the methods cancel() and apart() are used to simplify rational-equation"
   ]
  },
  {
   "cell_type": "code",
   "execution_count": 123,
   "id": "ad8ea86f",
   "metadata": {},
   "outputs": [],
   "source": [
    "# Cancel method demo"
   ]
  },
  {
   "cell_type": "code",
   "execution_count": 124,
   "id": "1e512cf1",
   "metadata": {},
   "outputs": [
    {
     "data": {
      "text/latex": [
       "$\\displaystyle \\frac{x^{3} + 10 x^{2} + 31 x + 30}{x^{2} + 12 x + 35}$"
      ],
      "text/plain": [
       "(x**3 + 10*x**2 + 31*x + 30)/(x**2 + 12*x + 35)"
      ]
     },
     "execution_count": 124,
     "metadata": {},
     "output_type": "execute_result"
    }
   ],
   "source": [
    "p = x**3 + 10 * x**2 + 31 * x + 30\n",
    "q = x**2 + 12 * x + 35\n",
    "\n",
    "fraction = p/q\n",
    "fraction"
   ]
  },
  {
   "cell_type": "code",
   "execution_count": 125,
   "id": "a443fd92",
   "metadata": {},
   "outputs": [
    {
     "data": {
      "text/latex": [
       "$\\displaystyle \\frac{x^{2} + 5 x + 6}{x + 7}$"
      ],
      "text/plain": [
       "(x**2 + 5*x + 6)/(x + 7)"
      ]
     },
     "execution_count": 125,
     "metadata": {},
     "output_type": "execute_result"
    }
   ],
   "source": [
    "sp.cancel(fraction)# alternative is fraction.cancel()"
   ]
  },
  {
   "cell_type": "code",
   "execution_count": 126,
   "id": "a5a70d03",
   "metadata": {},
   "outputs": [
    {
     "data": {
      "text/latex": [
       "$\\displaystyle x - 2 + \\frac{20}{x + 7}$"
      ],
      "text/plain": [
       "x - 2 + 20/(x + 7)"
      ]
     },
     "execution_count": 126,
     "metadata": {},
     "output_type": "execute_result"
    }
   ],
   "source": [
    "sp.apart(fraction)#  alternative is fraction.apart()"
   ]
  },
  {
   "cell_type": "markdown",
   "id": "29900780",
   "metadata": {},
   "source": [
    "# The general Simplify"
   ]
  },
  {
   "cell_type": "code",
   "execution_count": 127,
   "id": "c96d7190",
   "metadata": {},
   "outputs": [
    {
     "data": {
      "text/latex": [
       "$\\displaystyle \\left(\\sin{\\left(x \\right)} + \\cos{\\left(x \\right)}\\right)^{2} - e^{x} + e^{x + y} - \\cos{\\left(x \\right)}$"
      ],
      "text/plain": [
       "(sin(x) + cos(x))**2 - exp(x) + exp(x + y) - cos(x)"
      ]
     },
     "execution_count": 127,
     "metadata": {},
     "output_type": "execute_result"
    }
   ],
   "source": [
    "#demonstration of simplify() method\n",
    "\n",
    "expr = sp.exp(x+y) + (sp.cos(x) + sp.sin(x))**2 -sp.cos(x) - sp.exp(x)\n",
    "expr"
   ]
  },
  {
   "cell_type": "code",
   "execution_count": 128,
   "id": "2edeb141",
   "metadata": {},
   "outputs": [
    {
     "data": {
      "text/latex": [
       "$\\displaystyle - e^{x} + e^{x + y} + \\sin{\\left(2 x \\right)} - \\cos{\\left(x \\right)} + 1$"
      ],
      "text/plain": [
       "-exp(x) + exp(x + y) + sin(2*x) - cos(x) + 1"
      ]
     },
     "execution_count": 128,
     "metadata": {},
     "output_type": "execute_result"
    }
   ],
   "source": [
    "expr.simplify()"
   ]
  },
  {
   "cell_type": "code",
   "execution_count": 129,
   "id": "8b80b58e",
   "metadata": {},
   "outputs": [
    {
     "data": {
      "text/latex": [
       "$\\displaystyle e^{x} e^{y} - e^{x} + \\sin^{2}{\\left(x \\right)} + 2 \\sin{\\left(x \\right)} \\cos{\\left(x \\right)} + \\cos^{2}{\\left(x \\right)} - \\cos{\\left(x \\right)}$"
      ],
      "text/plain": [
       "exp(x)*exp(y) - exp(x) + sin(x)**2 + 2*sin(x)*cos(x) + cos(x)**2 - cos(x)"
      ]
     },
     "execution_count": 129,
     "metadata": {},
     "output_type": "execute_result"
    }
   ],
   "source": [
    "expr.expand()"
   ]
  },
  {
   "cell_type": "code",
   "execution_count": 130,
   "id": "12334edb",
   "metadata": {},
   "outputs": [
    {
     "data": {
      "text/latex": [
       "$\\displaystyle - e^{x} + e^{x + y} + \\sin{\\left(2 x \\right)} - \\cos{\\left(x \\right)} + 1$"
      ],
      "text/plain": [
       "-exp(x) + exp(x + y) + sin(2*x) - cos(x) + 1"
      ]
     },
     "execution_count": 130,
     "metadata": {},
     "output_type": "execute_result"
    }
   ],
   "source": [
    "sp.simplify(expr)"
   ]
  },
  {
   "cell_type": "markdown",
   "id": "1c2dc6b3",
   "metadata": {},
   "source": [
    "# Evaluating as Expression"
   ]
  },
  {
   "cell_type": "markdown",
   "id": "cddf796b",
   "metadata": {},
   "source": [
    "all the symbols in SymPy are by default Complex. However, some simplifications\n",
    "only work when the symbols are real, positive and integer etc. "
   ]
  },
  {
   "cell_type": "code",
   "execution_count": 3,
   "id": "85cc0b68",
   "metadata": {},
   "outputs": [
    {
     "data": {
      "text/latex": [
       "$\\displaystyle \\log{\\left(e^{x} \\right)}$"
      ],
      "text/plain": [
       "log(exp(x))"
      ]
     },
     "execution_count": 3,
     "metadata": {},
     "output_type": "execute_result"
    }
   ],
   "source": [
    "x = sp.Symbol(\"x\")\n",
    "sp.log(sp.exp(x))"
   ]
  },
  {
   "cell_type": "code",
   "execution_count": 4,
   "id": "41ae997f",
   "metadata": {},
   "outputs": [
    {
     "data": {
      "text/latex": [
       "$\\displaystyle x$"
      ],
      "text/plain": [
       "x"
      ]
     },
     "execution_count": 4,
     "metadata": {},
     "output_type": "execute_result"
    }
   ],
   "source": [
    "x ,y ,z = sp.symbols(\"x,y,z\",real = True)\n",
    "sp.log(sp.exp(x))# here is the difference "
   ]
  },
  {
   "cell_type": "code",
   "execution_count": 5,
   "id": "01b254b7",
   "metadata": {},
   "outputs": [
    {
     "data": {
      "text/latex": [
       "$\\displaystyle x_{0}$"
      ],
      "text/plain": [
       "x0"
      ]
     },
     "execution_count": 5,
     "metadata": {},
     "output_type": "execute_result"
    }
   ],
   "source": [
    "x = sp.symbols(\"x0:3\", real = True)\n",
    "sp.log(sp.exp(x[0]))"
   ]
  },
  {
   "cell_type": "code",
   "execution_count": 6,
   "id": "5cb4bba5",
   "metadata": {},
   "outputs": [
    {
     "data": {
      "text/latex": [
       "$\\displaystyle \\sqrt{p^{2}}$"
      ],
      "text/plain": [
       "sqrt(p**2)"
      ]
     },
     "execution_count": 6,
     "metadata": {},
     "output_type": "execute_result"
    }
   ],
   "source": [
    "p = sp.Symbol(\"p\")\n",
    "sp.sqrt(p ** 2)"
   ]
  },
  {
   "cell_type": "code",
   "execution_count": 7,
   "id": "eb6b75b6",
   "metadata": {},
   "outputs": [
    {
     "data": {
      "text/latex": [
       "$\\displaystyle \\left|{x_{0}}\\right|$"
      ],
      "text/plain": [
       "Abs(x0)"
      ]
     },
     "execution_count": 7,
     "metadata": {},
     "output_type": "execute_result"
    }
   ],
   "source": [
    "sp.sqrt(x[0]**2)"
   ]
  },
  {
   "cell_type": "code",
   "execution_count": 8,
   "id": "c46ef6a3",
   "metadata": {},
   "outputs": [
    {
     "data": {
      "text/latex": [
       "$\\displaystyle n$"
      ],
      "text/plain": [
       "n"
      ]
     },
     "execution_count": 8,
     "metadata": {},
     "output_type": "execute_result"
    }
   ],
   "source": [
    "n = sp.Symbol(\"n\",positive = True)\n",
    "sp.sqrt(n**2)"
   ]
  },
  {
   "cell_type": "code",
   "execution_count": 142,
   "id": "bb09a210",
   "metadata": {},
   "outputs": [],
   "source": [
    "#demo of subs() method for expression evaluation"
   ]
  },
  {
   "cell_type": "code",
   "execution_count": 9,
   "id": "0edc6d6b",
   "metadata": {},
   "outputs": [
    {
     "data": {
      "text/latex": [
       "$\\displaystyle x_{0}^{2} + 5$"
      ],
      "text/plain": [
       "x0**2 + 5"
      ]
     },
     "execution_count": 9,
     "metadata": {},
     "output_type": "execute_result"
    }
   ],
   "source": [
    "expr = x[0]**2 + 5\n",
    "\n",
    "expr"
   ]
  },
  {
   "cell_type": "code",
   "execution_count": 10,
   "id": "f0485aa7",
   "metadata": {},
   "outputs": [
    {
     "data": {
      "text/latex": [
       "$\\displaystyle 105$"
      ],
      "text/plain": [
       "105"
      ]
     },
     "execution_count": 10,
     "metadata": {},
     "output_type": "execute_result"
    }
   ],
   "source": [
    "expr.subs(x[0],10)"
   ]
  },
  {
   "cell_type": "code",
   "execution_count": 11,
   "id": "9ffba31b",
   "metadata": {},
   "outputs": [
    {
     "data": {
      "text/latex": [
       "$\\displaystyle 5 + \\pi^{2}$"
      ],
      "text/plain": [
       "5 + pi**2"
      ]
     },
     "execution_count": 11,
     "metadata": {},
     "output_type": "execute_result"
    }
   ],
   "source": [
    "expr.subs(x[0],sp.pi)"
   ]
  },
  {
   "cell_type": "code",
   "execution_count": 12,
   "id": "b3dc039c",
   "metadata": {},
   "outputs": [
    {
     "data": {
      "text/latex": [
       "$\\displaystyle \\left(\\pi n + \\cos{\\left(x_{2} \\right)}\\right)^{2} + 5$"
      ],
      "text/plain": [
       "(pi*n + cos(x2))**2 + 5"
      ]
     },
     "execution_count": 12,
     "metadata": {},
     "output_type": "execute_result"
    }
   ],
   "source": [
    "expr.subs(x[0] , sp.pi*n+sp.cos(x[2]))"
   ]
  },
  {
   "cell_type": "code",
   "execution_count": 14,
   "id": "154970a6",
   "metadata": {},
   "outputs": [],
   "source": [
    "## Going Numeric"
   ]
  },
  {
   "cell_type": "code",
   "execution_count": 13,
   "id": "63447dab",
   "metadata": {},
   "outputs": [
    {
     "data": {
      "text/latex": [
       "$\\displaystyle 5 + \\pi^{2}$"
      ],
      "text/plain": [
       "5 + pi**2"
      ]
     },
     "execution_count": 13,
     "metadata": {},
     "output_type": "execute_result"
    }
   ],
   "source": [
    "expr = x[0]**2 + 5\n",
    "num = expr.subs(x[0],sp.pi)\n",
    "num"
   ]
  },
  {
   "cell_type": "code",
   "execution_count": 15,
   "id": "ec8f9651",
   "metadata": {},
   "outputs": [
    {
     "data": {
      "text/latex": [
       "$\\displaystyle 14.8696044010894$"
      ],
      "text/plain": [
       "14.8696044010894"
      ]
     },
     "execution_count": 15,
     "metadata": {},
     "output_type": "execute_result"
    }
   ],
   "source": [
    "sp.N(num)"
   ]
  },
  {
   "cell_type": "code",
   "execution_count": 17,
   "id": "1a0047b0",
   "metadata": {},
   "outputs": [
    {
     "data": {
      "text/latex": [
       "$\\displaystyle 14.86960440108935861883449099987615113531369940724079062641334937622004482241920524300177340371855223$"
      ],
      "text/plain": [
       "14.86960440108935861883449099987615113531369940724079062641334937622004482241920524300177340371855223"
      ]
     },
     "execution_count": 17,
     "metadata": {},
     "output_type": "execute_result"
    }
   ],
   "source": [
    "import sympy as sp\n",
    "\n",
    "sp.N(num,100)"
   ]
  },
  {
   "cell_type": "code",
   "execution_count": 19,
   "id": "7ad97138",
   "metadata": {},
   "outputs": [
    {
     "data": {
      "text/latex": [
       "$\\displaystyle x_{0}^{2} + 3.14159265358979$"
      ],
      "text/plain": [
       "x0**2 + 3.14159265358979"
      ]
     },
     "execution_count": 19,
     "metadata": {},
     "output_type": "execute_result"
    }
   ],
   "source": [
    "sp.N(sp.pi+x[0]**2)"
   ]
  },
  {
   "cell_type": "markdown",
   "id": "8282535e",
   "metadata": {},
   "source": [
    "# Derivatives\n"
   ]
  },
  {
   "cell_type": "code",
   "execution_count": 1,
   "id": "72acc736",
   "metadata": {},
   "outputs": [],
   "source": [
    "import sympy as sp\n"
   ]
  },
  {
   "cell_type": "code",
   "execution_count": 10,
   "id": "1dbab00c",
   "metadata": {},
   "outputs": [],
   "source": [
    "x , y = sp.symbols(\"x, y\")\n"
   ]
  },
  {
   "cell_type": "code",
   "execution_count": 3,
   "id": "29b74363",
   "metadata": {},
   "outputs": [
    {
     "data": {
      "text/latex": [
       "$\\displaystyle e^{2 x} + \\sin{\\left(x \\right)}$"
      ],
      "text/plain": [
       "exp(2*x) + sin(x)"
      ]
     },
     "execution_count": 3,
     "metadata": {},
     "output_type": "execute_result"
    }
   ],
   "source": [
    "expr = sp.exp(2*x) + sp.sin(x)\n",
    "expr"
   ]
  },
  {
   "cell_type": "code",
   "execution_count": 4,
   "id": "331406d0",
   "metadata": {},
   "outputs": [
    {
     "data": {
      "text/latex": [
       "$\\displaystyle 2 e^{2 x} + \\cos{\\left(x \\right)}$"
      ],
      "text/plain": [
       "2*exp(2*x) + cos(x)"
      ]
     },
     "execution_count": 4,
     "metadata": {},
     "output_type": "execute_result"
    }
   ],
   "source": [
    "expr.diff()# same way is expr.diff(x)"
   ]
  },
  {
   "cell_type": "code",
   "execution_count": 10,
   "id": "84232186",
   "metadata": {},
   "outputs": [
    {
     "data": {
      "text/latex": [
       "$\\displaystyle 8 e^{2 x} - \\cos{\\left(x \\right)}$"
      ],
      "text/plain": [
       "8*exp(2*x) - cos(x)"
      ]
     },
     "execution_count": 10,
     "metadata": {},
     "output_type": "execute_result"
    }
   ],
   "source": [
    "# how to take multiple derivatives?\n",
    "\n",
    "sp.diff(sp.diff(sp.diff(expr)))\n"
   ]
  },
  {
   "cell_type": "code",
   "execution_count": 11,
   "id": "acc589b1",
   "metadata": {},
   "outputs": [
    {
     "data": {
      "text/latex": [
       "$\\displaystyle 8 e^{2 x} - \\cos{\\left(x \\right)}$"
      ],
      "text/plain": [
       "8*exp(2*x) - cos(x)"
      ]
     },
     "execution_count": 11,
     "metadata": {},
     "output_type": "execute_result"
    }
   ],
   "source": [
    "# alternative1\n",
    "sp.diff(expr,x,3)"
   ]
  },
  {
   "cell_type": "code",
   "execution_count": 12,
   "id": "54822151",
   "metadata": {},
   "outputs": [
    {
     "data": {
      "text/latex": [
       "$\\displaystyle 8 e^{2 x} - \\cos{\\left(x \\right)}$"
      ],
      "text/plain": [
       "8*exp(2*x) - cos(x)"
      ]
     },
     "execution_count": 12,
     "metadata": {},
     "output_type": "execute_result"
    }
   ],
   "source": [
    "# alternative2\n",
    "sp.diff(expr,x,x,x)"
   ]
  },
  {
   "cell_type": "markdown",
   "id": "61f396d3",
   "metadata": {},
   "source": [
    "# Rewritting the funtion"
   ]
  },
  {
   "cell_type": "code",
   "execution_count": 14,
   "id": "98ba3532",
   "metadata": {},
   "outputs": [
    {
     "data": {
      "text/latex": [
       "$\\displaystyle e^{- \\frac{e^{x}}{2}} e^{\\sinh{\\left(x \\right)}}$"
      ],
      "text/plain": [
       "exp(-exp(x)/2)*exp(sinh(x))"
      ]
     },
     "execution_count": 14,
     "metadata": {},
     "output_type": "execute_result"
    }
   ],
   "source": [
    "expr = sp.exp(sp.sinh(x)) / sp.exp(sp.exp(x) / 2)\n",
    "expr"
   ]
  },
  {
   "cell_type": "code",
   "execution_count": 16,
   "id": "8b565ba6",
   "metadata": {},
   "outputs": [
    {
     "data": {
      "text/latex": [
       "$\\displaystyle e^{- \\frac{e^{x}}{2} + \\sinh{\\left(x \\right)}}$"
      ],
      "text/plain": [
       "exp(-exp(x)/2 + sinh(x))"
      ]
     },
     "execution_count": 16,
     "metadata": {},
     "output_type": "execute_result"
    }
   ],
   "source": [
    "simpWithoutRewrite = expr.simplify()\n",
    "simpWithoutRewrite"
   ]
  },
  {
   "cell_type": "code",
   "execution_count": 18,
   "id": "e7a79c16",
   "metadata": {},
   "outputs": [
    {
     "data": {
      "text/latex": [
       "$\\displaystyle e^{\\frac{e^{x}}{2} - \\frac{e^{- x}}{2}} e^{- \\frac{e^{x}}{2}}$"
      ],
      "text/plain": [
       "exp(exp(x)/2 - exp(-x)/2)*exp(-exp(x)/2)"
      ]
     },
     "execution_count": 18,
     "metadata": {},
     "output_type": "execute_result"
    }
   ],
   "source": [
    "expr1 = expr.rewrite(sp.exp)\n",
    "expr1"
   ]
  },
  {
   "cell_type": "code",
   "execution_count": 20,
   "id": "4c51f7ce",
   "metadata": {},
   "outputs": [
    {
     "data": {
      "text/latex": [
       "$\\displaystyle e^{- \\frac{e^{- x}}{2}}$"
      ],
      "text/plain": [
       "exp(-exp(-x)/2)"
      ]
     },
     "execution_count": 20,
     "metadata": {},
     "output_type": "execute_result"
    }
   ],
   "source": [
    "rewriteThenSimpify = expr1.simplify()\n",
    "rewriteThenSimpify"
   ]
  },
  {
   "cell_type": "markdown",
   "id": "d63ff2d5",
   "metadata": {},
   "source": [
    "# Rewrite and partial derivatives"
   ]
  },
  {
   "cell_type": "code",
   "execution_count": 11,
   "id": "23e347f6",
   "metadata": {},
   "outputs": [
    {
     "data": {
      "text/latex": [
       "$\\displaystyle \\cos{\\left(x \\right)} \\cot^{2}{\\left(2 y \\right)}$"
      ],
      "text/plain": [
       "cos(x)*cot(2*y)**2"
      ]
     },
     "execution_count": 11,
     "metadata": {},
     "output_type": "execute_result"
    }
   ],
   "source": [
    "expr = sp.cos(x) * sp.cot(2*y)**2\n",
    "expr"
   ]
  },
  {
   "cell_type": "code",
   "execution_count": 12,
   "id": "9c19e659",
   "metadata": {},
   "outputs": [
    {
     "data": {
      "text/latex": [
       "$\\displaystyle \\left(- 4 \\cot^{2}{\\left(2 y \\right)} - 4\\right) \\cos{\\left(x \\right)} \\cot{\\left(2 y \\right)}$"
      ],
      "text/plain": [
       "(-4*cot(2*y)**2 - 4)*cos(x)*cot(2*y)"
      ]
     },
     "execution_count": 12,
     "metadata": {},
     "output_type": "execute_result"
    }
   ],
   "source": [
    "partial_derivative_with_respect_to_y = expr.diff(y)\n",
    "partial_derivative_with_respect_to_y\n"
   ]
  },
  {
   "cell_type": "code",
   "execution_count": 17,
   "id": "d7fe86aa",
   "metadata": {},
   "outputs": [
    {
     "data": {
      "text/latex": [
       "$\\displaystyle \\frac{\\left(- \\frac{4 \\cos^{2}{\\left(2 y \\right)}}{\\cos^{2}{\\left(2 y - \\frac{\\pi}{2} \\right)}} - 4\\right) \\cos{\\left(x \\right)} \\cos{\\left(2 y \\right)}}{\\cos{\\left(2 y - \\frac{\\pi}{2} \\right)}}$"
      ],
      "text/plain": [
       "(-4*cos(2*y)**2/cos(2*y - pi/2)**2 - 4)*cos(x)*cos(2*y)/cos(2*y - pi/2)"
      ]
     },
     "execution_count": 17,
     "metadata": {},
     "output_type": "execute_result"
    }
   ],
   "source": [
    "partial_derivative_with_respect_to_y.rewrite(sp.cos)"
   ]
  },
  {
   "cell_type": "code",
   "execution_count": 28,
   "id": "e72fc763",
   "metadata": {},
   "outputs": [
    {
     "data": {
      "text/latex": [
       "$\\displaystyle - \\frac{4 \\cos{\\left(x \\right)} \\cot{\\left(2 y \\right)}}{\\sin^{2}{\\left(2 y \\right)}}$"
      ],
      "text/plain": [
       "-4*cos(x)*cot(2*y)/sin(2*y)**2"
      ]
     },
     "execution_count": 28,
     "metadata": {},
     "output_type": "execute_result"
    }
   ],
   "source": [
    "simplified_diffwrty = partial_derivative_with_respect_to_y.simplify()\n",
    "simplified_diffwrty"
   ]
  },
  {
   "cell_type": "code",
   "execution_count": 29,
   "id": "65a41469",
   "metadata": {},
   "outputs": [
    {
     "data": {
      "text/latex": [
       "$\\displaystyle - \\frac{2 \\sin{\\left(4 y \\right)} \\sin{\\left(x + \\frac{\\pi}{2} \\right)}}{\\sin^{4}{\\left(2 y \\right)}}$"
      ],
      "text/plain": [
       "-2*sin(4*y)*sin(x + pi/2)/sin(2*y)**4"
      ]
     },
     "execution_count": 29,
     "metadata": {},
     "output_type": "execute_result"
    }
   ],
   "source": [
    "simplified_diffwrty.rewrite(sp.sin)"
   ]
  },
  {
   "cell_type": "code",
   "execution_count": 30,
   "id": "c856f6b5",
   "metadata": {},
   "outputs": [
    {
     "data": {
      "text/latex": [
       "$\\displaystyle 64 \\left(\\cot^{2}{\\left(2 y \\right)} + 1\\right) \\left(3 \\cot^{2}{\\left(2 y \\right)} + 2\\right) \\cos{\\left(x \\right)} \\cot{\\left(2 y \\right)}$"
      ],
      "text/plain": [
       "64*(cot(2*y)**2 + 1)*(3*cot(2*y)**2 + 2)*cos(x)*cot(2*y)"
      ]
     },
     "execution_count": 30,
     "metadata": {},
     "output_type": "execute_result"
    }
   ],
   "source": [
    "expr.diff(x,x,y,y,y)# alternative expr.diff(x,2,y,3)"
   ]
  },
  {
   "cell_type": "code",
   "execution_count": 31,
   "id": "795cced2",
   "metadata": {},
   "outputs": [
    {
     "data": {
      "text/latex": [
       "$\\displaystyle 64 \\left(\\cot^{2}{\\left(2 y \\right)} + 1\\right) \\left(3 \\cot^{2}{\\left(2 y \\right)} + 2\\right) \\cos{\\left(x \\right)} \\cot{\\left(2 y \\right)}$"
      ],
      "text/plain": [
       "64*(cot(2*y)**2 + 1)*(3*cot(2*y)**2 + 2)*cos(x)*cot(2*y)"
      ]
     },
     "execution_count": 31,
     "metadata": {},
     "output_type": "execute_result"
    }
   ],
   "source": [
    "expr.diff(x,2,y,3)"
   ]
  },
  {
   "cell_type": "markdown",
   "id": "e0d8320b",
   "metadata": {},
   "source": [
    "# Integrals"
   ]
  },
  {
   "cell_type": "markdown",
   "id": "504f73bc",
   "metadata": {},
   "source": [
    "how to solve the integrals using SymPy"
   ]
  },
  {
   "cell_type": "code",
   "execution_count": 34,
   "id": "4dfe42c7",
   "metadata": {},
   "outputs": [],
   "source": [
    "x, y, z = sp.symbols(\"x,y,z\",real= True)\n",
    "c = sp.Symbol(\"c\")"
   ]
  },
  {
   "cell_type": "code",
   "execution_count": 56,
   "id": "be51040a",
   "metadata": {},
   "outputs": [
    {
     "data": {
      "text/latex": [
       "$\\displaystyle \\sin{\\left(3 x \\right)} \\cos{\\left(2 x \\right)}$"
      ],
      "text/plain": [
       "sin(3*x)*cos(2*x)"
      ]
     },
     "execution_count": 56,
     "metadata": {},
     "output_type": "execute_result"
    }
   ],
   "source": [
    "f = sp.cos(2*x) * sp.sin(3*x)\n",
    "f"
   ]
  },
  {
   "cell_type": "code",
   "execution_count": 57,
   "id": "a9015c38",
   "metadata": {},
   "outputs": [
    {
     "data": {
      "text/latex": [
       "$\\displaystyle c - \\frac{2 \\sin{\\left(2 x \\right)} \\sin{\\left(3 x \\right)}}{5} - \\frac{3 \\cos{\\left(2 x \\right)} \\cos{\\left(3 x \\right)}}{5}$"
      ],
      "text/plain": [
       "c - 2*sin(2*x)*sin(3*x)/5 - 3*cos(2*x)*cos(3*x)/5"
      ]
     },
     "execution_count": 57,
     "metadata": {},
     "output_type": "execute_result"
    }
   ],
   "source": [
    "f.integrate() + c # alternative is sp.integrate(fun)"
   ]
  },
  {
   "cell_type": "code",
   "execution_count": 58,
   "id": "4b27bcd3",
   "metadata": {},
   "outputs": [
    {
     "data": {
      "text/latex": [
       "$\\displaystyle \\sin{\\left(3 x \\right)} \\cos{\\left(2 x \\right)}$"
      ],
      "text/plain": [
       "sin(3*x)*cos(2*x)"
      ]
     },
     "execution_count": 58,
     "metadata": {},
     "output_type": "execute_result"
    }
   ],
   "source": [
    "f.integrate().diff()"
   ]
  },
  {
   "cell_type": "code",
   "execution_count": 59,
   "id": "fdf96898",
   "metadata": {},
   "outputs": [
    {
     "data": {
      "text/latex": [
       "$\\displaystyle - \\frac{2 \\sin{\\left(2 x \\right)} \\sin{\\left(3 x \\right)}}{5} - \\frac{3 \\cos{\\left(2 x \\right)} \\cos{\\left(3 x \\right)}}{5}$"
      ],
      "text/plain": [
       "-2*sin(2*x)*sin(3*x)/5 - 3*cos(2*x)*cos(3*x)/5"
      ]
     },
     "execution_count": 59,
     "metadata": {},
     "output_type": "execute_result"
    }
   ],
   "source": [
    "sp.integrate(f,x)"
   ]
  },
  {
   "cell_type": "code",
   "execution_count": 44,
   "id": "7a2cfc8c",
   "metadata": {},
   "outputs": [],
   "source": [
    "#Example 2"
   ]
  },
  {
   "cell_type": "code",
   "execution_count": 46,
   "id": "4e1720e9",
   "metadata": {},
   "outputs": [
    {
     "data": {
      "text/latex": [
       "$\\displaystyle x^{y}$"
      ],
      "text/plain": [
       "x**y"
      ]
     },
     "execution_count": 46,
     "metadata": {},
     "output_type": "execute_result"
    }
   ],
   "source": [
    "g = x ** y\n",
    "g"
   ]
  },
  {
   "cell_type": "code",
   "execution_count": 54,
   "id": "111a91cd",
   "metadata": {},
   "outputs": [
    {
     "name": "stdout",
     "output_type": "stream",
     "text": [
      "Piecewise\n"
     ]
    },
    {
     "data": {
      "text/latex": [
       "$\\displaystyle \\begin{cases} \\frac{x^{y + 1}}{y + 1} & \\text{for}\\: y \\neq -1 \\\\\\log{\\left(x \\right)} & \\text{otherwise} \\end{cases}$"
      ],
      "text/plain": [
       "Piecewise((x**(y + 1)/(y + 1), Ne(y, -1)), (log(x), True))"
      ]
     },
     "execution_count": 54,
     "metadata": {},
     "output_type": "execute_result"
    }
   ],
   "source": [
    "\n",
    "h = sp.integrate(g, x)\n",
    "\n",
    "print(type(h))\n",
    "h"
   ]
  },
  {
   "cell_type": "code",
   "execution_count": 60,
   "id": "9d9b70d1",
   "metadata": {},
   "outputs": [
    {
     "data": {
      "text/latex": [
       "$\\displaystyle \\begin{cases} \\frac{x^{y + 1} \\sin{\\left(3 x \\right)} \\cos{\\left(2 x \\right)}}{y + 1} & \\text{for}\\: y > -1 \\vee y < -1 \\\\\\log{\\left(x \\right)} \\sin{\\left(3 x \\right)} \\cos{\\left(2 x \\right)} & \\text{otherwise} \\end{cases}$"
      ],
      "text/plain": [
       "Piecewise((x**(y + 1)*sin(3*x)*cos(2*x)/(y + 1), (y > -1) | (y < -1)), (log(x)*sin(3*x)*cos(2*x), True))"
      ]
     },
     "execution_count": 60,
     "metadata": {},
     "output_type": "execute_result"
    }
   ],
   "source": [
    "(h * f).simplify()"
   ]
  },
  {
   "cell_type": "markdown",
   "id": "54e3de17",
   "metadata": {},
   "source": [
    "# Difinite integrals"
   ]
  },
  {
   "cell_type": "code",
   "execution_count": 61,
   "id": "78f4734b",
   "metadata": {},
   "outputs": [
    {
     "data": {
      "text/latex": [
       "$\\displaystyle \\sin{\\left(3 x \\right)} \\cos{\\left(2 x \\right)}$"
      ],
      "text/plain": [
       "sin(3*x)*cos(2*x)"
      ]
     },
     "execution_count": 61,
     "metadata": {},
     "output_type": "execute_result"
    }
   ],
   "source": [
    "f"
   ]
  },
  {
   "cell_type": "code",
   "execution_count": 62,
   "id": "733b1375",
   "metadata": {},
   "outputs": [
    {
     "data": {
      "text/latex": [
       "$\\displaystyle \\frac{6}{5}$"
      ],
      "text/plain": [
       "6/5"
      ]
     },
     "execution_count": 62,
     "metadata": {},
     "output_type": "execute_result"
    }
   ],
   "source": [
    "sp.integrate(f,(x,0,sp.pi)) # x is for dx, 0 = lower limit, sp.pi = upper limit"
   ]
  },
  {
   "cell_type": "code",
   "execution_count": 64,
   "id": "85e726f5",
   "metadata": {},
   "outputs": [
    {
     "data": {
      "text/latex": [
       "$\\displaystyle e^{- x}$"
      ],
      "text/plain": [
       "exp(-x)"
      ]
     },
     "execution_count": 64,
     "metadata": {},
     "output_type": "execute_result"
    }
   ],
   "source": [
    "f2 = sp.exp(-x)\n",
    "f2"
   ]
  },
  {
   "cell_type": "code",
   "execution_count": 66,
   "id": "e8545825",
   "metadata": {},
   "outputs": [
    {
     "data": {
      "text/latex": [
       "$\\displaystyle 1$"
      ],
      "text/plain": [
       "1"
      ]
     },
     "execution_count": 66,
     "metadata": {},
     "output_type": "execute_result"
    }
   ],
   "source": [
    "sp.integrate(f2,(x,0,sp.oo))"
   ]
  },
  {
   "cell_type": "markdown",
   "id": "4167752a",
   "metadata": {},
   "source": [
    "# multivariable integrals"
   ]
  },
  {
   "cell_type": "code",
   "execution_count": 68,
   "id": "caa9776d",
   "metadata": {},
   "outputs": [
    {
     "data": {
      "text/latex": [
       "$\\displaystyle x y z^{2}$"
      ],
      "text/plain": [
       "x*y*z**2"
      ]
     },
     "execution_count": 68,
     "metadata": {},
     "output_type": "execute_result"
    }
   ],
   "source": [
    "w = x * y * z **2\n",
    "w"
   ]
  },
  {
   "cell_type": "code",
   "execution_count": 70,
   "id": "c7d467cb",
   "metadata": {},
   "outputs": [
    {
     "data": {
      "text/latex": [
       "$\\displaystyle \\frac{x^{2} y^{2} z^{2}}{4}$"
      ],
      "text/plain": [
       "x**2*y**2*z**2/4"
      ]
     },
     "execution_count": 70,
     "metadata": {},
     "output_type": "execute_result"
    }
   ],
   "source": [
    "# indifinite integral\n",
    "sp.integrate(w,x,y)"
   ]
  },
  {
   "cell_type": "code",
   "execution_count": 71,
   "id": "2a150359",
   "metadata": {},
   "outputs": [
    {
     "data": {
      "text/latex": [
       "$\\displaystyle 54$"
      ],
      "text/plain": [
       "54"
      ]
     },
     "execution_count": 71,
     "metadata": {},
     "output_type": "execute_result"
    }
   ],
   "source": [
    "#difinite integral\n",
    "sp.integrate(w,(x,0,1),(y,1,5),(z,0,3))"
   ]
  },
  {
   "cell_type": "markdown",
   "id": "8818da32",
   "metadata": {},
   "source": [
    "# Limits"
   ]
  },
  {
   "cell_type": "code",
   "execution_count": 72,
   "id": "1b26f0f3",
   "metadata": {},
   "outputs": [
    {
     "data": {
      "text/latex": [
       "$\\displaystyle x^{2}$"
      ],
      "text/plain": [
       "x**2"
      ]
     },
     "execution_count": 72,
     "metadata": {},
     "output_type": "execute_result"
    }
   ],
   "source": [
    "expr = x ** 2\n",
    "expr"
   ]
  },
  {
   "cell_type": "code",
   "execution_count": 73,
   "id": "cd514411",
   "metadata": {},
   "outputs": [
    {
     "data": {
      "text/latex": [
       "$\\displaystyle 0$"
      ],
      "text/plain": [
       "0"
      ]
     },
     "execution_count": 73,
     "metadata": {},
     "output_type": "execute_result"
    }
   ],
   "source": [
    "sp.limit(expr,x,0)"
   ]
  },
  {
   "cell_type": "code",
   "execution_count": 74,
   "id": "204e6601",
   "metadata": {},
   "outputs": [],
   "source": [
    "# limits in sympy are by default right limits lets understand it by an example"
   ]
  },
  {
   "cell_type": "code",
   "execution_count": 75,
   "id": "6a35f791",
   "metadata": {},
   "outputs": [
    {
     "data": {
      "text/latex": [
       "$\\displaystyle \\infty$"
      ],
      "text/plain": [
       "oo"
      ]
     },
     "execution_count": 75,
     "metadata": {},
     "output_type": "execute_result"
    }
   ],
   "source": [
    "q = 1 / x\n",
    "\n",
    "sp.limit(q,x,0)"
   ]
  },
  {
   "cell_type": "code",
   "execution_count": 77,
   "id": "0737298d",
   "metadata": {},
   "outputs": [],
   "source": [
    "# how to take left limit?"
   ]
  },
  {
   "cell_type": "code",
   "execution_count": 78,
   "id": "78cc30c1",
   "metadata": {},
   "outputs": [
    {
     "data": {
      "text/latex": [
       "$\\displaystyle -\\infty$"
      ],
      "text/plain": [
       "-oo"
      ]
     },
     "execution_count": 78,
     "metadata": {},
     "output_type": "execute_result"
    }
   ],
   "source": [
    "sp.limit(q,x,0,'-')"
   ]
  },
  {
   "cell_type": "code",
   "execution_count": 79,
   "id": "a678224e",
   "metadata": {},
   "outputs": [],
   "source": [
    "# how to take both right and left limit?"
   ]
  },
  {
   "cell_type": "code",
   "execution_count": 80,
   "id": "35eb6f66",
   "metadata": {},
   "outputs": [
    {
     "data": {
      "text/latex": [
       "$\\displaystyle \\tilde{\\infty}$"
      ],
      "text/plain": [
       "zoo"
      ]
     },
     "execution_count": 80,
     "metadata": {},
     "output_type": "execute_result"
    }
   ],
   "source": [
    "sp.limit(q,x,0,'+-')"
   ]
  },
  {
   "cell_type": "markdown",
   "id": "792c7641",
   "metadata": {},
   "source": [
    "# Limit at infinity"
   ]
  },
  {
   "cell_type": "code",
   "execution_count": 81,
   "id": "90656d13",
   "metadata": {},
   "outputs": [
    {
     "data": {
      "text/latex": [
       "$\\displaystyle x e^{- x}$"
      ],
      "text/plain": [
       "x*exp(-x)"
      ]
     },
     "execution_count": 81,
     "metadata": {},
     "output_type": "execute_result"
    }
   ],
   "source": [
    "exponent = x / sp.exp(x)\n",
    "exponent"
   ]
  },
  {
   "cell_type": "code",
   "execution_count": 82,
   "id": "e2626d0a",
   "metadata": {},
   "outputs": [
    {
     "data": {
      "text/latex": [
       "$\\displaystyle 0$"
      ],
      "text/plain": [
       "0"
      ]
     },
     "execution_count": 82,
     "metadata": {},
     "output_type": "execute_result"
    }
   ],
   "source": [
    "sp.limit(exponent,x,sp.oo) # make sure that subsitution will not give the same\n",
    "                           # answer"
   ]
  },
  {
   "cell_type": "code",
   "execution_count": 84,
   "id": "86957949",
   "metadata": {},
   "outputs": [
    {
     "data": {
      "text/latex": [
       "$\\displaystyle \\text{NaN}$"
      ],
      "text/plain": [
       "nan"
      ]
     },
     "execution_count": 84,
     "metadata": {},
     "output_type": "execute_result"
    }
   ],
   "source": [
    "exponent.subs(x,sp.oo) # substitution is not giving the correct answer"
   ]
  },
  {
   "cell_type": "markdown",
   "id": "e0c40bcc",
   "metadata": {},
   "source": [
    "# Taylor series"
   ]
  },
  {
   "cell_type": "code",
   "execution_count": 85,
   "id": "197e0612",
   "metadata": {},
   "outputs": [],
   "source": [
    "# any nice function can be converted to infinite sum of polynomials \n",
    "# such series is called Taylor series"
   ]
  },
  {
   "cell_type": "code",
   "execution_count": 3,
   "id": "29b8e2a3",
   "metadata": {},
   "outputs": [],
   "source": [
    "import sympy as sp\n",
    "x = sp.symbols(\"x\")\n",
    "fun  = sp.sin(x)\n"
   ]
  },
  {
   "cell_type": "code",
   "execution_count": 6,
   "id": "882798d2",
   "metadata": {},
   "outputs": [
    {
     "data": {
      "text/latex": [
       "$\\displaystyle \\pi + \\frac{\\left(x - \\pi\\right)^{3}}{6} - \\frac{\\left(x - \\pi\\right)^{5}}{120} - x + O\\left(\\left(x - \\pi\\right)^{6}; x\\rightarrow \\pi\\right)$"
      ],
      "text/plain": [
       "pi + (x - pi)**3/6 - (x - pi)**5/120 - x + O((x - pi)**6, (x, pi))"
      ]
     },
     "execution_count": 6,
     "metadata": {},
     "output_type": "execute_result"
    }
   ],
   "source": [
    "sp.series(fun,x,sp.pi)"
   ]
  },
  {
   "cell_type": "code",
   "execution_count": 92,
   "id": "97d94351",
   "metadata": {},
   "outputs": [
    {
     "data": {
      "text/latex": [
       "$\\displaystyle \\pi + \\frac{\\left(x - \\pi\\right)^{3}}{6} - \\frac{\\left(x - \\pi\\right)^{5}}{120} - x + O\\left(\\left(x - \\pi\\right)^{6}; x\\rightarrow \\pi\\right)$"
      ],
      "text/plain": [
       "pi + (x - pi)**3/6 - (x - pi)**5/120 - x + O((x - pi)**6, (x, pi))"
      ]
     },
     "execution_count": 92,
     "metadata": {},
     "output_type": "execute_result"
    }
   ],
   "source": [
    "series1 = sp.series(fun,x,sp.pi)\n",
    "series1"
   ]
  },
  {
   "cell_type": "code",
   "execution_count": 93,
   "id": "bae61897",
   "metadata": {},
   "outputs": [
    {
     "data": {
      "text/latex": [
       "$\\displaystyle \\pi + \\frac{\\left(x - \\pi\\right)^{3}}{6} - \\frac{\\left(x - \\pi\\right)^{5}}{120} - x + O\\left(\\left(x - \\pi\\right)^{6}; x\\rightarrow \\pi\\right)$"
      ],
      "text/plain": [
       "pi + (x - pi)**3/6 - (x - pi)**5/120 - x + O((x - pi)**6, (x, pi))"
      ]
     },
     "execution_count": 93,
     "metadata": {},
     "output_type": "execute_result"
    }
   ],
   "source": [
    "series1.simplify()"
   ]
  },
  {
   "cell_type": "code",
   "execution_count": 18,
   "id": "6c154717",
   "metadata": {},
   "outputs": [
    {
     "data": {
      "text/latex": [
       "$\\displaystyle e^{\\sin{\\left(x \\right)}}$"
      ],
      "text/plain": [
       "exp(sin(x))"
      ]
     },
     "execution_count": 18,
     "metadata": {},
     "output_type": "execute_result"
    }
   ],
   "source": [
    "expr = sp.exp(sp.sin(x))\n",
    "expr"
   ]
  },
  {
   "cell_type": "code",
   "execution_count": 21,
   "id": "37d977be",
   "metadata": {},
   "outputs": [
    {
     "data": {
      "text/latex": [
       "$\\displaystyle 1 + x + \\frac{x^{2}}{2} - \\frac{x^{4}}{8} - \\frac{x^{5}}{15} - \\frac{x^{6}}{240} + \\frac{x^{7}}{90} + \\frac{31 x^{8}}{5760} + \\frac{x^{9}}{5670} + O\\left(x^{10}\\right)$"
      ],
      "text/plain": [
       "1 + x + x**2/2 - x**4/8 - x**5/15 - x**6/240 + x**7/90 + 31*x**8/5760 + x**9/5670 + O(x**10)"
      ]
     },
     "execution_count": 21,
     "metadata": {},
     "output_type": "execute_result"
    }
   ],
   "source": [
    "sp.series(expr, x, 0, n=10)"
   ]
  },
  {
   "cell_type": "code",
   "execution_count": 98,
   "id": "68fb1acc",
   "metadata": {},
   "outputs": [
    {
     "data": {
      "text/latex": [
       "$\\displaystyle x + x^{2} + \\frac{x^{3}}{3} - \\frac{x^{4}}{6} - \\frac{x^{5}}{5} - \\frac{7 x^{6}}{120} + \\frac{13 x^{7}}{630} + O\\left(x^{8}\\right)$"
      ],
      "text/plain": [
       "x + x**2 + x**3/3 - x**4/6 - x**5/5 - 7*x**6/120 + 13*x**7/630 + O(x**8)"
      ]
     },
     "execution_count": 98,
     "metadata": {},
     "output_type": "execute_result"
    }
   ],
   "source": [
    "exp=(sp.series(expr, x, 0, n=10) * sp.series(sp.sin(x), x, 0, n=8)).expand()\n",
    "exp"
   ]
  },
  {
   "cell_type": "code",
   "execution_count": 99,
   "id": "1c5cded3",
   "metadata": {},
   "outputs": [
    {
     "data": {
      "text/latex": [
       "$\\displaystyle \\frac{13 x^{7}}{630} - \\frac{7 x^{6}}{120} - \\frac{x^{5}}{5} - \\frac{x^{4}}{6} + \\frac{x^{3}}{3} + x^{2} + x$"
      ],
      "text/plain": [
       "13*x**7/630 - 7*x**6/120 - x**5/5 - x**4/6 + x**3/3 + x**2 + x"
      ]
     },
     "execution_count": 99,
     "metadata": {},
     "output_type": "execute_result"
    }
   ],
   "source": [
    "exp = exp.removeO()\n",
    "exp"
   ]
  },
  {
   "cell_type": "markdown",
   "id": "5f670bc9",
   "metadata": {},
   "source": [
    "# Ordinary Differential Equations"
   ]
  },
  {
   "cell_type": "code",
   "execution_count": 100,
   "id": "14117ae9",
   "metadata": {},
   "outputs": [],
   "source": [
    "import sympy as sp\n",
    "x = sp.Symbol(\"x\")\n"
   ]
  },
  {
   "cell_type": "markdown",
   "id": "6146b04e",
   "metadata": {},
   "source": [
    "# How to solve ODE"
   ]
  },
  {
   "cell_type": "code",
   "execution_count": 101,
   "id": "66edc5a7",
   "metadata": {},
   "outputs": [
    {
     "data": {
      "text/latex": [
       "$\\displaystyle f{\\left(x \\right)}$"
      ],
      "text/plain": [
       "f(x)"
      ]
     },
     "execution_count": 101,
     "metadata": {},
     "output_type": "execute_result"
    }
   ],
   "source": [
    "# create function object\n",
    "\n",
    "f = sp.Function(\"f\")(x)\n",
    "f"
   ]
  },
  {
   "cell_type": "code",
   "execution_count": 103,
   "id": "309fda17",
   "metadata": {},
   "outputs": [
    {
     "data": {
      "text/latex": [
       "$\\displaystyle \\frac{d}{d x} f{\\left(x \\right)}$"
      ],
      "text/plain": [
       "Derivative(f(x), x)"
      ]
     },
     "execution_count": 103,
     "metadata": {},
     "output_type": "execute_result"
    }
   ],
   "source": [
    "# lets take derivative of the function\n",
    "sp.diff(f)"
   ]
  },
  {
   "cell_type": "code",
   "execution_count": 104,
   "id": "0d8b3828",
   "metadata": {},
   "outputs": [],
   "source": [
    "# Creating ODE"
   ]
  },
  {
   "cell_type": "code",
   "execution_count": 105,
   "id": "bf429d6b",
   "metadata": {},
   "outputs": [
    {
     "data": {
      "text/latex": [
       "$\\displaystyle x \\frac{d^{2}}{d x^{2}} f{\\left(x \\right)} + \\frac{d}{d x} f{\\left(x \\right)} = x^{3}$"
      ],
      "text/plain": [
       "Eq(x*Derivative(f(x), (x, 2)) + Derivative(f(x), x), x**3)"
      ]
     },
     "execution_count": 105,
     "metadata": {},
     "output_type": "execute_result"
    }
   ],
   "source": [
    "eq = sp.Eq(x*sp.diff(f,x,2) + sp.diff(f) , x**3)\n",
    "eq"
   ]
  },
  {
   "cell_type": "code",
   "execution_count": 106,
   "id": "1b0ad8e9",
   "metadata": {},
   "outputs": [
    {
     "data": {
      "text/latex": [
       "$\\displaystyle x^{3}$"
      ],
      "text/plain": [
       "x**3"
      ]
     },
     "execution_count": 106,
     "metadata": {},
     "output_type": "execute_result"
    }
   ],
   "source": [
    "# getting the RHS\n",
    "eq.rhs\n"
   ]
  },
  {
   "cell_type": "code",
   "execution_count": 108,
   "id": "ba96c6b4",
   "metadata": {},
   "outputs": [
    {
     "data": {
      "text/latex": [
       "$\\displaystyle x \\frac{d^{2}}{d x^{2}} f{\\left(x \\right)} + \\frac{d}{d x} f{\\left(x \\right)}$"
      ],
      "text/plain": [
       "x*Derivative(f(x), (x, 2)) + Derivative(f(x), x)"
      ]
     },
     "execution_count": 108,
     "metadata": {},
     "output_type": "execute_result"
    }
   ],
   "source": [
    "# getting the LHS\n",
    "\n",
    "eq.lhs"
   ]
  },
  {
   "cell_type": "code",
   "execution_count": 110,
   "id": "87f9c138",
   "metadata": {},
   "outputs": [
    {
     "data": {
      "text/latex": [
       "$\\displaystyle f{\\left(x \\right)} = C_{1} + C_{2} \\log{\\left(x \\right)} + \\frac{x^{4}}{16}$"
      ],
      "text/plain": [
       "Eq(f(x), C1 + C2*log(x) + x**4/16)"
      ]
     },
     "execution_count": 110,
     "metadata": {},
     "output_type": "execute_result"
    }
   ],
   "source": [
    "#solving the eq\n",
    "# we are supposed to solve the equation eq wrt function f\n",
    "\n",
    "solution = sp.dsolve(eq, f)\n",
    "solution"
   ]
  },
  {
   "cell_type": "code",
   "execution_count": 113,
   "id": "2d606260",
   "metadata": {},
   "outputs": [
    {
     "data": {
      "text/latex": [
       "$\\displaystyle C_{1} + C_{2} \\log{\\left(x \\right)} + \\frac{x^{4}}{16}$"
      ],
      "text/plain": [
       "C1 + C2*log(x) + x**4/16"
      ]
     },
     "execution_count": 113,
     "metadata": {},
     "output_type": "execute_result"
    }
   ],
   "source": [
    "# The Solution is\n",
    "\n",
    "sol = solution.rhs\n",
    "sol"
   ]
  },
  {
   "cell_type": "code",
   "execution_count": 115,
   "id": "637f9a6b",
   "metadata": {},
   "outputs": [
    {
     "data": {
      "text/plain": [
       "{C1, C2, x}"
      ]
     },
     "execution_count": 115,
     "metadata": {},
     "output_type": "execute_result"
    }
   ],
   "source": [
    "variables = sol.free_symbols\n",
    "variables"
   ]
  },
  {
   "cell_type": "code",
   "execution_count": 116,
   "id": "0aefd6c4",
   "metadata": {},
   "outputs": [],
   "source": [
    "variables = tuple(variables)"
   ]
  },
  {
   "cell_type": "code",
   "execution_count": 117,
   "id": "43392c2f",
   "metadata": {},
   "outputs": [],
   "source": [
    "C1,_,C2=variables"
   ]
  },
  {
   "cell_type": "code",
   "execution_count": 118,
   "id": "f48e0a8d",
   "metadata": {},
   "outputs": [
    {
     "data": {
      "text/latex": [
       "$\\displaystyle \\frac{x^{4}}{16} + \\log{\\left(x \\right)}$"
      ],
      "text/plain": [
       "x**4/16 + log(x)"
      ]
     },
     "execution_count": 118,
     "metadata": {},
     "output_type": "execute_result"
    }
   ],
   "source": [
    "sol.subs(C1,0).subs(C2,1)"
   ]
  },
  {
   "cell_type": "raw",
   "id": "9d0b82d8",
   "metadata": {},
   "source": [
    "#Giving the initial condition"
   ]
  },
  {
   "cell_type": "code",
   "execution_count": 119,
   "id": "aa165202",
   "metadata": {},
   "outputs": [
    {
     "data": {
      "text/plain": [
       "{f(1): 0, Subs(Derivative(f(x), x), x, 2): 1}"
      ]
     },
     "execution_count": 119,
     "metadata": {},
     "output_type": "execute_result"
    }
   ],
   "source": [
    "condition = {f.subs(x,1) : 0 , f.diff().subs(x,2): 1}\n",
    "condition"
   ]
  },
  {
   "cell_type": "code",
   "execution_count": null,
   "id": "7a5ff139",
   "metadata": {},
   "outputs": [],
   "source": []
  },
  {
   "cell_type": "code",
   "execution_count": null,
   "id": "b260644a",
   "metadata": {},
   "outputs": [],
   "source": []
  }
 ],
 "metadata": {
  "kernelspec": {
   "display_name": "Python 3 (ipykernel)",
   "language": "python",
   "name": "python3"
  },
  "language_info": {
   "codemirror_mode": {
    "name": "ipython",
    "version": 3
   },
   "file_extension": ".py",
   "mimetype": "text/x-python",
   "name": "python",
   "nbconvert_exporter": "python",
   "pygments_lexer": "ipython3",
   "version": "3.10.7"
  }
 },
 "nbformat": 4,
 "nbformat_minor": 5
}
